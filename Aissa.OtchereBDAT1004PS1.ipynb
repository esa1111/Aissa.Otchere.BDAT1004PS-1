{
 "cells": [
  {
   "cell_type": "code",
   "execution_count": null,
   "id": "47853456-2932-467f-8ac8-82fa2816506c",
   "metadata": {},
   "outputs": [],
   "source": [
    "Question 1 C#\n",
    "\n",
    "    5(int)\n",
    "    5.0(doouble)\n",
    "    5>1(bool)\n",
    "    '5'(char)\n",
    "    5*2(int)\n",
    "    '5'*2(error)\n",
    "    '5'+'2'(will add the values)\n",
    "    5/2(int)\n",
    "    5 % 2(int)\n",
    "    {5,2,1} (int[])\n",
    "    5==3(bool)\n",
    "    Pi(double)"
   ]
  },
  {
   "cell_type": "code",
   "execution_count": null,
   "id": "b982d1b2-de45-4996-af5b-2ed449b79b0d",
   "metadata": {},
   "outputs": [],
   "source": [
    "Question 2 C#"
   ]
  },
  {
   "cell_type": "code",
   "execution_count": 7,
   "id": "d1a3e90c-dae8-4497-91f7-2f201d314fb6",
   "metadata": {},
   "outputs": [
    {
     "name": "stdout",
     "output_type": "stream",
     "text": [
      "Number of letters: 34\n"
     ]
    }
   ],
   "source": [
    "string word = \"Supercalifragilisticexpialidocious\";\n",
    "int length = word.Length;\n",
    "Console.WriteLine(\"Number of letters: \" + length);"
   ]
  },
  {
   "cell_type": "code",
   "execution_count": null,
   "id": "15708713-f291-4235-afca-a19d0a78347c",
   "metadata": {},
   "outputs": [],
   "source": [
    "a. The word 'Supercalifragilisticexpialidocious' has 34 letters "
   ]
  },
  {
   "cell_type": "code",
   "execution_count": 9,
   "id": "f486ad8c-c8fb-49bb-a7de-eb31cd5cde06",
   "metadata": {},
   "outputs": [
    {
     "name": "stdout",
     "output_type": "stream",
     "text": [
      "Contains 'ice': True\n"
     ]
    }
   ],
   "source": [
    "string word = \"Supercalifragilisticexpialidocious\";\n",
    "bool containsIce = word.Contains(\"ice\");\n",
    "Console.WriteLine(\"Contains 'ice': \" + containsIce);"
   ]
  },
  {
   "cell_type": "code",
   "execution_count": null,
   "id": "f7174d23-f901-4af6-a725-6ab12476dac5",
   "metadata": {},
   "outputs": [],
   "source": [
    "b. Yes, Supercalifragilisticexpialidocious contains the substring 'ice'."
   ]
  },
  {
   "cell_type": "code",
   "execution_count": 11,
   "id": "023c4fec-757b-4884-a2c0-0769bd6bf47e",
   "metadata": {},
   "outputs": [
    {
     "name": "stdout",
     "output_type": "stream",
     "text": [
      "The longest word is: Bababadalgharaghtakamminarronnkonn\n"
     ]
    }
   ],
   "source": [
    "string word1 = \"Supercalifragilisticexpialidocious\";\n",
    "string word2 = \"Honorificabilitudinitatibus\";\n",
    "string word3 = \"Bababadalgharaghtakamminarronnkonn\";\n",
    "\n",
    "string longestWord = word1.Length > word2.Length \n",
    "    ? (word1.Length > word3.Length ? word1 : word3) \n",
    "    : (word2.Length > word3.Length ? word2 : word3);\n",
    "\n",
    "Console.WriteLine(\"The longest word is: \" + longestWord);"
   ]
  },
  {
   "cell_type": "code",
   "execution_count": null,
   "id": "cd6fe0c4-76b3-425a-85a3-d1e05b8523b5",
   "metadata": {},
   "outputs": [],
   "source": [
    "c. 'Bababadalgharaghtakamminarronnkonn' is the longer word"
   ]
  },
  {
   "cell_type": "code",
   "execution_count": 18,
   "id": "0c658711-b557-4f55-897d-2a57cdc44654",
   "metadata": {},
   "outputs": [
    {
     "name": "stdout",
     "output_type": "stream",
     "text": [
      "First composer: Bartok\n",
      "Last composer: Buxtehude\n"
     ]
    }
   ],
   "source": [
    "// List of composers\n",
    "string[] composers = { \"Berlioz\", \"Borodin\", \"Brian\", \"Bartok\", \"Bellini\", \"Buxtehude\", \"Bernstein\" };\n",
    "\n",
    "// Sort the array alphabetically\n",
    "Array.Sort(composers);\n",
    "\n",
    "// Output the first and last composers\n",
    "Console.WriteLine(\"First composer: \" + composers[0]);\n",
    "Console.WriteLine(\"Last composer: \" + composers[composers.Length - 1]);"
   ]
  },
  {
   "cell_type": "code",
   "execution_count": null,
   "id": "c7c06f95-41bf-441a-8081-04af128b7d5c",
   "metadata": {},
   "outputs": [],
   "source": [
    "d. Bartok comes first in the dictonary, Buxtehude comes last in the dictonary."
   ]
  },
  {
   "cell_type": "code",
   "execution_count": null,
   "id": "cf77d182-0341-4f16-a346-0e9a076cc139",
   "metadata": {},
   "outputs": [],
   "source": [
    "Question 3 C#"
   ]
  },
  {
   "cell_type": "code",
   "execution_count": 28,
   "id": "fdee916a-d2ef-4653-b006-4ab39c7c910a",
   "metadata": {},
   "outputs": [
    {
     "name": "stdout",
     "output_type": "stream",
     "text": [
      "The area of the triangle is: 1.7320508075688772\n"
     ]
    }
   ],
   "source": [
    "using System;\n",
    "\n",
    "// Define the function to calculate the area of a triangle using Heron's formula\n",
    "double TriangleArea(double a, double b, double c)\n",
    "{\n",
    "    double s = (a + b + c) / 2;\n",
    "    return Math.Sqrt(s * (s - a) * (s - b) * (s - c));\n",
    "}\n",
    "\n",
    "// Call the function and print the result\n",
    "double area = TriangleArea(2, 2, 2);\n",
    "Console.WriteLine(\"The area of the triangle is: \" + area);\n"
   ]
  },
  {
   "cell_type": "code",
   "execution_count": null,
   "id": "b5802a6f-a32e-49db-8815-0d0c2fdfb3a1",
   "metadata": {},
   "outputs": [],
   "source": [
    "Question 4 C#"
   ]
  },
  {
   "cell_type": "code",
   "execution_count": 30,
   "id": "61d6582c-3892-4e07-83a0-e4c1dd244e06",
   "metadata": {},
   "outputs": [
    {
     "name": "stdout",
     "output_type": "stream",
     "text": [
      "Even: 42, 56, 32\n",
      "Odd: 25, 47\n"
     ]
    }
   ],
   "source": [
    "int[] arr = { 25, 47, 42, 56, 32 };\n",
    "List<int> even = new List<int>();\n",
    "List<int> odd = new List<int>();\n",
    "\n",
    "foreach (int num in arr) {\n",
    "    if (num % 2 == 0) {\n",
    "        even.Add(num);\n",
    "    } else {\n",
    "        odd.Add(num);\n",
    "    }\n",
    "}\n",
    "\n",
    "Console.WriteLine(\"Even: \" + string.Join(\", \", even));\n",
    "Console.WriteLine(\"Odd: \" + string.Join(\", \", odd));\n"
   ]
  },
  {
   "cell_type": "markdown",
   "id": "9fa7de23-69b6-433a-9c48-ea80aff9ddb0",
   "metadata": {},
   "source": [
    "Question 5 C#"
   ]
  },
  {
   "cell_type": "code",
   "execution_count": 38,
   "id": "e8c718a1-ebbb-45bd-b36c-ae10ad2e6cea",
   "metadata": {},
   "outputs": [
    {
     "name": "stdout",
     "output_type": "stream",
     "text": [
      "True\n",
      "False\n"
     ]
    }
   ],
   "source": [
    "using System;\n",
    "\n",
    "// Function to check if the point (x, y) lies inside the rectangle\n",
    "bool inside(double x, double y, double x1, double y1, double x2, double y2)\n",
    "{\n",
    "    // Check if x is between x1 and x2, and y is between y1 and y2\n",
    "    return (x >= x1 && x <= x2 && y >= y1 && y <= y2);\n",
    "}\n",
    "\n",
    "// Test cases\n",
    "Console.WriteLine(inside(1, 1, 0, 0, 2, 3)); // Expected: True\n",
    "Console.WriteLine(inside(-1, -1, 0, 0, 2, 3)); // Expected: False\n"
   ]
  },
  {
   "cell_type": "code",
   "execution_count": null,
   "id": "5b54810c-01d5-45cc-a0a0-c23513a8ff27",
   "metadata": {},
   "outputs": [],
   "source": [
    "a.  True \n",
    "    False"
   ]
  },
  {
   "cell_type": "markdown",
   "id": "eafe459d-f22b-41d1-8faa-fb20c72431f7",
   "metadata": {},
   "source": [
    "using System;\n",
    "\n",
    "// Function to check if the point (x, y) lies inside the rectangle\n",
    "bool inside(double x, double y, double x1, double y1, double x2, double y2)\n",
    "{\n",
    "    return (x >= x1 && x <= x2 && y >= y1 && y <= y2);\n",
    "}\n",
    "\n",
    "// Test if point (1,1) lies inside both rectangles\n",
    "bool inFirstRectangle = inside(1, 1, 0.3, 0.5, 1.1, 0.7);\n",
    "bool inSecondRectangle = inside(1, 1, 0.5, 0.2, 1.1, 2);\n",
    "\n",
    "// Check if the point lies in both rectangles\n",
    "bool inBothRectangles = inFirstRectangle && inSecondRectangle;\n",
    "\n",
    "// Output result\n",
    "Console.WriteLine(\"Point (1,1) lies in both rectangles: \" + inBothRectangles);\n"
   ]
  },
  {
   "cell_type": "code",
   "execution_count": null,
   "id": "561b1d3b-56f3-4360-95c5-312d8d46d895",
   "metadata": {},
   "outputs": [],
   "source": [
    "b. False"
   ]
  },
  {
   "cell_type": "code",
   "execution_count": null,
   "id": "e74df88e-799c-4671-9301-1a623e2b7691",
   "metadata": {},
   "outputs": [],
   "source": [
    "Question 6 Python"
   ]
  },
  {
   "cell_type": "markdown",
   "id": "307d4427-050e-40bc-abdd-a9a9967b82c2",
   "metadata": {},
   "source": [
    "def pig(word):\n",
    "    # Convert the word to lowercase\n",
    "    word = word.lower()\n",
    "    \n",
    "    # Check if the first letter is a vowel\n",
    "    if word[0] in 'aeiou':\n",
    "        return word + 'way'\n",
    "    else:\n",
    "        # Move the first letter to the end and add 'ay'\n",
    "        return word[1:] + word[0] + 'ay'\n",
    "\n",
    "# Test cases\n",
    "print(pig('happy'))  # Output: appyhay\n",
    "print(pig('Enter'))  # Output: enterway\n"
   ]
  },
  {
   "cell_type": "code",
   "execution_count": null,
   "id": "e51642ea-46f7-4e11-bc9d-1765c237621d",
   "metadata": {},
   "outputs": [],
   "source": [
    "Question 7 Python"
   ]
  },
  {
   "cell_type": "code",
   "execution_count": 7,
   "id": "40d83c9b-f1e4-4b5f-9925-202ea154e9fc",
   "metadata": {},
   "outputs": [
    {
     "name": "stdout",
     "output_type": "stream",
     "text": [
      "There are 15 patients of blood type A.\n",
      "There is one patient of blood type B.\n",
      "There are 13 patients of blood type AB.\n",
      "There are 15 patients of blood type O.\n",
      "There are no patients of blood type OO.\n"
     ]
    }
   ],
   "source": [
    "def bldcount(filename):\n",
    "    # Open the file and read the contents\n",
    "    with open(filename, 'r') as file:\n",
    "        data = file.read().split()  # Split the content into a list of blood types\n",
    "\n",
    "    # Count how many times each blood type appears\n",
    "    count_A = data.count('A')\n",
    "    count_B = data.count('B')\n",
    "    count_AB = data.count('AB')\n",
    "    count_O = data.count('O')\n",
    "    count_OO = data.count('OO')\n",
    "\n",
    "    # Print the results\n",
    "    print(f\"There are {count_A} patients of blood type A.\")\n",
    "    if count_B == 1:\n",
    "        print(\"There is one patient of blood type B.\")\n",
    "    else:\n",
    "        print(f\"There are {count_B} patients of blood type B.\")\n",
    "    \n",
    "    print(f\"There are {count_AB} patients of blood type AB.\")\n",
    "    print(f\"There are {count_O} patients of blood type O.\")\n",
    "    \n",
    "    if count_OO == 0:\n",
    "        print(\"There are no patients of blood type OO.\")\n",
    "    else:\n",
    "        print(f\"There {'is' if count_OO == 1 else 'are'} {count_OO} patient{'s' if count_OO != 1 else ''} of blood type OO.\")\n",
    "\n",
    "# Test the function with the file\n",
    "bldcount('bloodtype1.txt')\n"
   ]
  },
  {
   "cell_type": "code",
   "execution_count": null,
   "id": "cd5b68e3-7682-49fc-84fb-05cb06fc4f0a",
   "metadata": {},
   "outputs": [],
   "source": [
    "Question 8 Python"
   ]
  },
  {
   "cell_type": "code",
   "execution_count": 9,
   "id": "d3ff257e-9ec3-4a6d-b858-e8aac03d74fa",
   "metadata": {},
   "outputs": [
    {
     "name": "stdout",
     "output_type": "stream",
     "text": [
      "122.96544\n",
      "1.241401\n"
     ]
    }
   ],
   "source": [
    "def curconv(currency, amount):\n",
    "    # Open the currencies.txt file to read exchange rates\n",
    "    with open('currencies.txt', 'r') as file:\n",
    "        for line in file:\n",
    "            parts = line.split()  # Split each line into parts\n",
    "            # Check if the first part matches the currency code\n",
    "            if parts[0] == currency:\n",
    "                # Convert the amount to USD using the exchange rate\n",
    "                rate = float(parts[1])\n",
    "                return amount * rate\n",
    "\n",
    "# Test cases\n",
    "print(curconv('EUR', 100))  # Expected: 122.96544\n",
    "print(curconv('JPY', 100))  # Expected: 1.241401\n"
   ]
  },
  {
   "cell_type": "code",
   "execution_count": null,
   "id": "473dca02-e96b-4d42-88ca-1d59bd2417a7",
   "metadata": {},
   "outputs": [],
   "source": [
    "Question 9 Python"
   ]
  },
  {
   "cell_type": "code",
   "execution_count": 11,
   "id": "1f994793-c1f6-4b4e-9993-0cd5d3513ad7",
   "metadata": {},
   "outputs": [
    {
     "ename": "TypeError",
     "evalue": "unsupported operand type(s) for +: 'int' and 'str'",
     "output_type": "error",
     "traceback": [
      "\u001b[1;31m---------------------------------------------------------------------------\u001b[0m",
      "\u001b[1;31mTypeError\u001b[0m                                 Traceback (most recent call last)",
      "Cell \u001b[1;32mIn[11], line 1\u001b[0m\n\u001b[1;32m----> 1\u001b[0m \u001b[38;5;241m6\u001b[39m \u001b[38;5;241m+\u001b[39m \u001b[38;5;124m'\u001b[39m\u001b[38;5;124ma\u001b[39m\u001b[38;5;124m'\u001b[39m\n",
      "\u001b[1;31mTypeError\u001b[0m: unsupported operand type(s) for +: 'int' and 'str'"
     ]
    }
   ],
   "source": [
    "6 + 'a'  "
   ]
  },
  {
   "cell_type": "code",
   "execution_count": null,
   "id": "23b1960a-d367-4fb7-bd88-5f7acc56116f",
   "metadata": {},
   "outputs": [],
   "source": [
    "# TypeError: unsupported operand type(s) for +: 'int' and 'str'"
   ]
  },
  {
   "cell_type": "markdown",
   "id": "89062d6b-03cf-4245-b0ec-2be476477008",
   "metadata": {},
   "source": [
    "my_list = [1, 2, 3, 4, 5, 6, 7, 8, 9, 10]\n",
    "print(my_list[11])"
   ]
  },
  {
   "cell_type": "code",
   "execution_count": null,
   "id": "73a5f1ab-6314-4b34-a754-d63d55737fb0",
   "metadata": {},
   "outputs": [],
   "source": [
    " # IndexError: list index out of range"
   ]
  },
  {
   "cell_type": "code",
   "execution_count": 14,
   "id": "efdb8707-7657-4594-a31f-5161e8972d34",
   "metadata": {},
   "outputs": [
    {
     "ename": "ValueError",
     "evalue": "math domain error",
     "output_type": "error",
     "traceback": [
      "\u001b[1;31m---------------------------------------------------------------------------\u001b[0m",
      "\u001b[1;31mValueError\u001b[0m                                Traceback (most recent call last)",
      "Cell \u001b[1;32mIn[14], line 2\u001b[0m\n\u001b[0;32m      1\u001b[0m \u001b[38;5;28;01mimport\u001b[39;00m \u001b[38;5;21;01mmath\u001b[39;00m\n\u001b[1;32m----> 2\u001b[0m math\u001b[38;5;241m.\u001b[39msqrt(\u001b[38;5;241m-\u001b[39m\u001b[38;5;241m1.0\u001b[39m)\n",
      "\u001b[1;31mValueError\u001b[0m: math domain error"
     ]
    }
   ],
   "source": [
    "import math\n",
    "math.sqrt(-1.0)"
   ]
  },
  {
   "cell_type": "code",
   "execution_count": null,
   "id": "1c169629-bf2a-4623-8541-d0b39318232e",
   "metadata": {},
   "outputs": [],
   "source": [
    "# ValueError: math domain error"
   ]
  },
  {
   "cell_type": "code",
   "execution_count": 16,
   "id": "40feb641-dae0-468b-be8b-b8bc9cc82496",
   "metadata": {},
   "outputs": [
    {
     "ename": "NameError",
     "evalue": "name 'x' is not defined",
     "output_type": "error",
     "traceback": [
      "\u001b[1;31m---------------------------------------------------------------------------\u001b[0m",
      "\u001b[1;31mNameError\u001b[0m                                 Traceback (most recent call last)",
      "Cell \u001b[1;32mIn[16], line 1\u001b[0m\n\u001b[1;32m----> 1\u001b[0m \u001b[38;5;28mprint\u001b[39m(x)\n",
      "\u001b[1;31mNameError\u001b[0m: name 'x' is not defined"
     ]
    }
   ],
   "source": [
    "print(x)"
   ]
  },
  {
   "cell_type": "code",
   "execution_count": null,
   "id": "07c5ea89-b75d-4488-9a10-39d5dafee6ae",
   "metadata": {},
   "outputs": [],
   "source": [
    " # NameError: name 'x' is not defined"
   ]
  },
  {
   "cell_type": "code",
   "execution_count": 18,
   "id": "577e2f9e-320b-4529-b3ec-902083c212fd",
   "metadata": {},
   "outputs": [
    {
     "ename": "FileNotFoundError",
     "evalue": "[Errno 2] No such file or directory: 'nonexistent_file.txt'",
     "output_type": "error",
     "traceback": [
      "\u001b[1;31m---------------------------------------------------------------------------\u001b[0m",
      "\u001b[1;31mFileNotFoundError\u001b[0m                         Traceback (most recent call last)",
      "Cell \u001b[1;32mIn[18], line 1\u001b[0m\n\u001b[1;32m----> 1\u001b[0m \u001b[38;5;28mopen\u001b[39m(\u001b[38;5;124m'\u001b[39m\u001b[38;5;124mnonexistent_file.txt\u001b[39m\u001b[38;5;124m'\u001b[39m)\n",
      "File \u001b[1;32m~\\anaconda3\\Lib\\site-packages\\IPython\\core\\interactiveshell.py:324\u001b[0m, in \u001b[0;36m_modified_open\u001b[1;34m(file, *args, **kwargs)\u001b[0m\n\u001b[0;32m    317\u001b[0m \u001b[38;5;28;01mif\u001b[39;00m file \u001b[38;5;129;01min\u001b[39;00m {\u001b[38;5;241m0\u001b[39m, \u001b[38;5;241m1\u001b[39m, \u001b[38;5;241m2\u001b[39m}:\n\u001b[0;32m    318\u001b[0m     \u001b[38;5;28;01mraise\u001b[39;00m \u001b[38;5;167;01mValueError\u001b[39;00m(\n\u001b[0;32m    319\u001b[0m         \u001b[38;5;124mf\u001b[39m\u001b[38;5;124m\"\u001b[39m\u001b[38;5;124mIPython won\u001b[39m\u001b[38;5;124m'\u001b[39m\u001b[38;5;124mt let you open fd=\u001b[39m\u001b[38;5;132;01m{\u001b[39;00mfile\u001b[38;5;132;01m}\u001b[39;00m\u001b[38;5;124m by default \u001b[39m\u001b[38;5;124m\"\u001b[39m\n\u001b[0;32m    320\u001b[0m         \u001b[38;5;124m\"\u001b[39m\u001b[38;5;124mas it is likely to crash IPython. If you know what you are doing, \u001b[39m\u001b[38;5;124m\"\u001b[39m\n\u001b[0;32m    321\u001b[0m         \u001b[38;5;124m\"\u001b[39m\u001b[38;5;124myou can use builtins\u001b[39m\u001b[38;5;124m'\u001b[39m\u001b[38;5;124m open.\u001b[39m\u001b[38;5;124m\"\u001b[39m\n\u001b[0;32m    322\u001b[0m     )\n\u001b[1;32m--> 324\u001b[0m \u001b[38;5;28;01mreturn\u001b[39;00m io_open(file, \u001b[38;5;241m*\u001b[39margs, \u001b[38;5;241m*\u001b[39m\u001b[38;5;241m*\u001b[39mkwargs)\n",
      "\u001b[1;31mFileNotFoundError\u001b[0m: [Errno 2] No such file or directory: 'nonexistent_file.txt'"
     ]
    }
   ],
   "source": [
    "open('nonexistent_file.txt')"
   ]
  },
  {
   "cell_type": "code",
   "execution_count": null,
   "id": "69e35332-87ec-44c0-b333-137809bd0042",
   "metadata": {},
   "outputs": [],
   "source": [
    "# FileNotFoundError: [Errno 2] No such file or directory: 'nonexistent_file.txt'"
   ]
  },
  {
   "cell_type": "code",
   "execution_count": null,
   "id": "9bf38b11-87df-4c5b-89dd-d06fd4617f4b",
   "metadata": {},
   "outputs": [],
   "source": [
    "Question 10 Python"
   ]
  },
  {
   "cell_type": "code",
   "execution_count": 22,
   "id": "f248c886-6d1b-458c-99af-36ca93de90c7",
   "metadata": {},
   "outputs": [
    {
     "name": "stdout",
     "output_type": "stream",
     "text": [
      "[1, 1, 1, 3, 5, 1, 1, 2, 1, 0, 1, 0, 1, 2, 4, 0, 1, 2, 0, 3, 1, 0, 1, 1, 0, 0]\n",
      "[1, 0, 0, 0, 1, 0, 0, 0, 0, 0, 0, 1, 0, 0, 0, 2, 0, 0, 0, 0, 0, 0, 0, 0, 0, 0]\n"
     ]
    }
   ],
   "source": [
    "def frequencies(text):\n",
    "    # The alphabet we're interested in\n",
    "    letters = 'abcdefghijklmnopqrstuvwxyz'\n",
    "    \n",
    "    # Initialize a list of 26 zeros (one for each letter in the alphabet)\n",
    "    counts = [0] * 26\n",
    "    \n",
    "    # Loop through each character in the input text\n",
    "    for char in text.lower():  # Convert the text to lowercase\n",
    "        if char in letters:  # Check if the character is a letter\n",
    "            index = letters.index(char)  # Find the index of the letter in 'letters'\n",
    "            counts[index] += 1  # Increment the count for this letter\n",
    "    \n",
    "    return counts\n",
    "\n",
    "# Test cases\n",
    "print(frequencies('The quick red fox got bored and went home.'))  \n",
    "# Expected: [1, 1, 1, 3, 5, 1, 1, 2, 1, 0, 1, 0, 1, 2, 4, 0, 1, 2, 0, 2, 1, 0, 1, 1, 0, 0]\n",
    "\n",
    "print(frequencies('apple'))  \n",
    "# Expected: [1, 0, 0, 0, 1, 0, 0, 0, 0, 0, 0, 0, 0, 1, 0, 0, 0, 0, 0, 0, 0, 0, 0, 0, 0, 0]"
   ]
  },
  {
   "cell_type": "code",
   "execution_count": null,
   "id": "1c57b809-dc51-4bde-9f6c-273afdcd92e5",
   "metadata": {},
   "outputs": [],
   "source": []
  }
 ],
 "metadata": {
  "kernelspec": {
   "display_name": "Python 3 (ipykernel)",
   "language": "python",
   "name": "python3"
  },
  "language_info": {
   "codemirror_mode": {
    "name": "ipython",
    "version": 3
   },
   "file_extension": ".py",
   "mimetype": "text/x-python",
   "name": "python",
   "nbconvert_exporter": "python",
   "pygments_lexer": "ipython3",
   "version": "3.12.4"
  }
 },
 "nbformat": 4,
 "nbformat_minor": 5
}
